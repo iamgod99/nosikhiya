{
 "cells": [
  {
   "cell_type": "code",
   "execution_count": 1,
   "metadata": {},
   "outputs": [
    {
     "name": "stdout",
     "output_type": "stream",
     "text": [
      "enter first value:4\n",
      "enter second value:5\n",
      "enter third value:6\n",
      "c is greater\n"
     ]
    }
   ],
   "source": [
    "a=int(input('enter first value:'))\n",
    "b=int(input('enter second value:'))\n",
    "c=int(input('enter third value:'))\n",
    "if a==b==c:\n",
    "    print('all are equal')\n",
    "else:\n",
    "    if (a>=b)and(a>=c):\n",
    "        print('a is greater')\n",
    "    elif (b>=a) and b>=c:\n",
    "        print('b is greater')\n",
    "    else:\n",
    "        print('c is greater')"
   ]
  },
  {
   "cell_type": "code",
   "execution_count": 9,
   "metadata": {},
   "outputs": [
    {
     "name": "stdout",
     "output_type": "stream",
     "text": [
      "Please enter your age 100\n",
      "You are eligeable for loan\n"
     ]
    }
   ],
   "source": [
    "age=int(input('Please enter your age '))\n",
    "if age>18:\n",
    "    print('You are eligeable for loan')\n",
    "else:\n",
    "        print('You have to be greater than 18 atleast')\n"
   ]
  },
  {
   "cell_type": "code",
   "execution_count": 1,
   "metadata": {},
   "outputs": [
    {
     "name": "stdout",
     "output_type": "stream",
     "text": [
      "kaam bol  7\n",
      "peli fursat me nikal\n"
     ]
    }
   ],
   "source": [
    "\n",
    "age=int(input(\"kaam bol  \"))\n",
    "if age>18:\n",
    "     print(\"our team will contact you soon\")         \n",
    "else:\n",
    "         print(\"peli fursat me nikal\")\n",
    "\n"
   ]
  },
  {
   "cell_type": "code",
   "execution_count": 1,
   "metadata": {},
   "outputs": [
    {
     "name": "stdout",
     "output_type": "stream",
     "text": [
      "enter first number:1\n",
      "enter second number:2\n",
      "enter third number3\n",
      "be  yrrrr input galat hai \n"
     ]
    }
   ],
   "source": [
    "x = 1\n",
    "y = 2\n",
    "z = 3\n",
    "\n",
    "\n",
    "a=input(\"enter first number:\")\n",
    "b=input('enter second number:')\n",
    "c=input('enter third number')\n",
    "if x==a and y==b and z==c:\n",
    "    print(\"good boy all inputs are correct\")\n",
    "else:\n",
    "    print('be  yrrrr input galat hai ')"
   ]
  },
  {
   "cell_type": "code",
   "execution_count": 22,
   "metadata": {},
   "outputs": [
    {
     "name": "stdout",
     "output_type": "stream",
     "text": [
      "pakisthan ki maka ka:bhosda\n",
      "chutiya kon hai:pakisthan\n",
      "*very good gandu*\n",
      "\t\n"
     ]
    }
   ],
   "source": [
    "x = \"bhosda\"\n",
    "y = (\"pakistan\") and (\"pakisthan\")\n",
    "\n",
    "a = input(\"pakisthan ki maka ka:\")\n",
    "b = input(\"chutiya kon hai:\")\n",
    "if x==a and y==b:\n",
    "       print(\"*very good gandu*\\n\\t\")\n",
    "else:\n",
    "       print(\"bsdk nikal tu\")"
   ]
  },
  {
   "cell_type": "code",
   "execution_count": 7,
   "metadata": {},
   "outputs": [
    {
     "name": "stdout",
     "output_type": "stream",
     "text": [
      "enter first name:gandu\n",
      "enter second number:2\n",
      "enter third number3\n",
      "good boy all inputs are correct\n"
     ]
    }
   ],
   "source": [
    "x = 'gandu'\n",
    "y = 2\n",
    "z = 3\n",
    "\n",
    "\n",
    "a=input(\"enter first name:\")\n",
    "b=int(input('enter second number:'))\n",
    "c=int(input('enter third number'))\n",
    "if x==a and y==b and z==c:\n",
    "    print(\"good boy all inputs are correct\")\n",
    "else:\n",
    "    print('be  yrrrr input galat hai ')\n"
   ]
  },
  {
   "cell_type": "code",
   "execution_count": 6,
   "metadata": {},
   "outputs": [
    {
     "name": "stdout",
     "output_type": "stream",
     "text": [
      "hello world 5\n"
     ]
    }
   ],
   "source": [
    "c=5\n",
    "while c <=0:\n",
    "     c-=1\n",
    "print('hello world',c)\n",
    "        "
   ]
  },
  {
   "cell_type": "code",
   "execution_count": 29,
   "metadata": {},
   "outputs": [
    {
     "ename": "IndentationError",
     "evalue": "expected an indented block (<ipython-input-29-6e15d27f5f6b>, line 5)",
     "output_type": "error",
     "traceback": [
      "\u001b[1;36m  File \u001b[1;32m\"<ipython-input-29-6e15d27f5f6b>\"\u001b[1;36m, line \u001b[1;32m5\u001b[0m\n\u001b[1;33m    print('c')\u001b[0m\n\u001b[1;37m        ^\u001b[0m\n\u001b[1;31mIndentationError\u001b[0m\u001b[1;31m:\u001b[0m expected an indented block\n"
     ]
    }
   ],
   "source": [
    "c = 1\n",
    "while c <= 10:\n",
    "    c += 1\n",
    "    if c % 2:\n",
    "    print(c)\n",
    "    c += 2"
   ]
  },
  {
   "cell_type": "code",
   "execution_count": 3,
   "metadata": {},
   "outputs": [
    {
     "name": "stdout",
     "output_type": "stream",
     "text": [
      "enter any random number:1\n",
      "think greater number\n",
      "enter any random number:2\n",
      "think greater number\n",
      "enter any random number:3\n",
      "think greater number\n",
      "enter any random number:10\n",
      "think think bete\n",
      "enter any random number:4\n",
      "think greater number\n",
      "enter any random number:5\n",
      "think greater number\n",
      "enter any random number:9\n",
      "think think bete\n",
      "enter any random number:6\n",
      "think greater number\n",
      "enter any random number:7\n",
      "bhadhai ho bhaiya\n"
     ]
    }
   ],
   "source": [
    "import random\n",
    "x = random.randint(1,10)\n",
    "count = 0\n",
    "#print(x)\n",
    "while count<5:\n",
    "    a=int(input('enter any random number:'))\n",
    "    if(a==x):\n",
    "        print('bhadhai ho bhaiya')\n",
    "        break\n",
    "    elif(x>a):\n",
    "        print('think greater number')\n",
    "    else:\n",
    "        print('think think bete')\n",
    "    count+-1\n",
    "else:\n",
    "    print('or bada kuch')"
   ]
  },
  {
   "cell_type": "code",
   "execution_count": 23,
   "metadata": {},
   "outputs": [
    {
     "name": "stdout",
     "output_type": "stream",
     "text": [
      "*****\n",
      "\n",
      "\n",
      "\n",
      "\n",
      "\n",
      "\n",
      "*****\n",
      "*****\n",
      "\n",
      "\n",
      "\n",
      "\n",
      "\n",
      "\n",
      "*****\n",
      "*****\n",
      "*****\n",
      "*****\n",
      "*****\n",
      "*****\n",
      "*****\n",
      "*****\n"
     ]
    }
   ],
   "source": [
    "for var in '*\\n','**\\n********':\n",
    "    print(var*5)"
   ]
  },
  {
   "cell_type": "code",
   "execution_count": 35,
   "metadata": {},
   "outputs": [
    {
     "name": "stdout",
     "output_type": "stream",
     "text": [
      "50\n",
      "100\n",
      "150\n",
      "200\n",
      "250\n",
      "300\n",
      "350\n",
      "400\n",
      "450\n",
      "500\n"
     ]
    }
   ],
   "source": [
    "for var in range(50,510,50):\n",
    "    print(var)"
   ]
  },
  {
   "cell_type": "code",
   "execution_count": 38,
   "metadata": {},
   "outputs": [
    {
     "name": "stdout",
     "output_type": "stream",
     "text": [
      "24\n",
      "48\n",
      "72\n",
      "96\n",
      "120\n",
      "144\n",
      "168\n",
      "192\n",
      "216\n",
      "240\n"
     ]
    }
   ],
   "source": [
    "for var in range(24,241,24):\n",
    "    print(var)"
   ]
  },
  {
   "cell_type": "code",
   "execution_count": 39,
   "metadata": {},
   "outputs": [
    {
     "name": "stdout",
     "output_type": "stream",
     "text": [
      "29\n",
      "58\n",
      "87\n",
      "116\n",
      "145\n",
      "174\n",
      "203\n",
      "232\n",
      "261\n",
      "290\n"
     ]
    }
   ],
   "source": [
    "for var in range(29,291,29):\n",
    "    print(var)"
   ]
  },
  {
   "cell_type": "code",
   "execution_count": 34,
   "metadata": {},
   "outputs": [
    {
     "ename": "SyntaxError",
     "evalue": "invalid syntax (<ipython-input-34-b2ad410b009b>, line 1)",
     "output_type": "error",
     "traceback": [
      "\u001b[1;36m  File \u001b[1;32m\"<ipython-input-34-b2ad410b009b>\"\u001b[1;36m, line \u001b[1;32m1\u001b[0m\n\u001b[1;33m    for var in range(*,**,***):\u001b[0m\n\u001b[1;37m                      ^\u001b[0m\n\u001b[1;31mSyntaxError\u001b[0m\u001b[1;31m:\u001b[0m invalid syntax\n"
     ]
    }
   ],
   "source": [
    "for var in range(*,**,***):\n",
    "    print('*',var)"
   ]
  },
  {
   "cell_type": "code",
   "execution_count": 41,
   "metadata": {},
   "outputs": [
    {
     "name": "stdout",
     "output_type": "stream",
     "text": [
      "50\n",
      "50*1=50\n",
      "50*2=100\n",
      "50*3=150\n",
      "50*4=200\n",
      "50*5=250\n",
      "50*6=300\n",
      "50*7=350\n",
      "50*8=400\n",
      "50*9=450\n",
      "50*10=500\n"
     ]
    }
   ],
   "source": [
    "a=int(input())\n",
    "for var in range (1,11):\n",
    "    print(f'{a}*{var}={a*var}')"
   ]
  },
  {
   "cell_type": "code",
   "execution_count": null,
   "metadata": {},
   "outputs": [],
   "source": [
    "a=int(input())\n",
    "for var in range (1,11):\n",
    "    print(f'{a}*{var}={a*var}')"
   ]
  },
  {
   "cell_type": "code",
   "execution_count": 65,
   "metadata": {},
   "outputs": [
    {
     "name": "stdout",
     "output_type": "stream",
     "text": [
      "*"
     ]
    }
   ],
   "source": [
    "print(\"*\",end=\"\")"
   ]
  },
  {
   "cell_type": "code",
   "execution_count": 63,
   "metadata": {},
   "outputs": [
    {
     "ename": "IndentationError",
     "evalue": "expected an indented block (<ipython-input-63-0ff1cd3beb26>, line 2)",
     "output_type": "error",
     "traceback": [
      "\u001b[1;36m  File \u001b[1;32m\"<ipython-input-63-0ff1cd3beb26>\"\u001b[1;36m, line \u001b[1;32m2\u001b[0m\n\u001b[1;33m    for j in range (\"0\",i+1):\u001b[0m\n\u001b[1;37m      ^\u001b[0m\n\u001b[1;31mIndentationError\u001b[0m\u001b[1;31m:\u001b[0m expected an indented block\n"
     ]
    }
   ],
   "source": [
    "for i in range(\"0\",n):\n",
    "for j in range (\"0\",i+1):\n",
    "print(\"*\",end=\"\")"
   ]
  },
  {
   "cell_type": "code",
   "execution_count": 73,
   "metadata": {},
   "outputs": [
    {
     "ename": "TypeError",
     "evalue": "'str' object cannot be interpreted as an integer",
     "output_type": "error",
     "traceback": [
      "\u001b[1;31m---------------------------------------------------------------------------\u001b[0m",
      "\u001b[1;31mTypeError\u001b[0m                                 Traceback (most recent call last)",
      "\u001b[1;32m<ipython-input-73-98b2a73fa040>\u001b[0m in \u001b[0;36m<module>\u001b[1;34m()\u001b[0m\n\u001b[0;32m      1\u001b[0m \u001b[1;32mfor\u001b[0m \u001b[0mnum\u001b[0m \u001b[1;32min\u001b[0m \u001b[0mrange\u001b[0m\u001b[1;33m(\u001b[0m\u001b[1;36m10\u001b[0m\u001b[1;33m)\u001b[0m\u001b[1;33m:\u001b[0m\u001b[1;33m\u001b[0m\u001b[0m\n\u001b[1;32m----> 2\u001b[1;33m     \u001b[1;32mfor\u001b[0m \u001b[0mi\u001b[0m \u001b[1;32min\u001b[0m \u001b[0mrange\u001b[0m \u001b[1;33m(\u001b[0m\u001b[1;34m\"*\"\u001b[0m\u001b[1;33m)\u001b[0m\u001b[1;33m:\u001b[0m\u001b[1;33m\u001b[0m\u001b[0m\n\u001b[0m\u001b[0;32m      3\u001b[0m             \u001b[0mprint\u001b[0m\u001b[1;33m(\u001b[0m\u001b[1;34m\"*\"\u001b[0m\u001b[1;33m,\u001b[0m\u001b[0mend\u001b[0m\u001b[1;33m=\u001b[0m\u001b[1;34m\"\"\u001b[0m\u001b[1;33m)\u001b[0m\u001b[1;33m\u001b[0m\u001b[0m\n",
      "\u001b[1;31mTypeError\u001b[0m: 'str' object cannot be interpreted as an integer"
     ]
    }
   ],
   "source": [
    "for num in range(10):\n",
    "    for i in range (\"*\"):\n",
    "            print(\"*\",end=\"\")"
   ]
  },
  {
   "cell_type": "code",
   "execution_count": null,
   "metadata": {},
   "outputs": [],
   "source": [
    "lastalfabet = \"z\"\n",
    "for row in range (\"a,lastAlfabet\"):\n",
    "    for colum in range(\"a\")"
   ]
  },
  {
   "cell_type": "code",
   "execution_count": 33,
   "metadata": {},
   "outputs": [
    {
     "name": "stdout",
     "output_type": "stream",
     "text": [
      "          * \n",
      "         * * \n",
      "        * * * \n",
      "       * * * * \n",
      "      * * * * * \n",
      "     * * * * * * \n",
      "    * * * * * * * \n",
      "   * * * * * * * * \n",
      "  * * * * * * * * * \n"
     ]
    }
   ],
   "source": [
    "for var in range(1,10):\n",
    "    print(' '*(11-var)+'* '*var)"
   ]
  },
  {
   "cell_type": "code",
   "execution_count": 45,
   "metadata": {},
   "outputs": [
    {
     "name": "stdout",
     "output_type": "stream",
     "text": [
      "          * \n",
      "         * * \n",
      "        * * * \n",
      "       * * * * \n",
      "      * * * * * \n",
      "     * * * * * * \n",
      "    * * * * * * * \n",
      "   * * * * * * * * \n",
      "  * * * * * * * * * \n"
     ]
    }
   ],
   "source": [
    "\n",
    "    for tar in range(10,1):\n",
    "        print(' '*(11-tar)+'* '*tar)"
   ]
  },
  {
   "cell_type": "code",
   "execution_count": 48,
   "metadata": {},
   "outputs": [],
   "source": [
    "for tar in range(10,1):\n",
    "        print(' '*(11-tar)+'* '*tar)"
   ]
  },
  {
   "cell_type": "code",
   "execution_count": 58,
   "metadata": {},
   "outputs": [
    {
     "name": "stdout",
     "output_type": "stream",
     "text": [
      "          * \n",
      "         * * \n",
      "        * * * \n",
      "       * * * * \n",
      "      * * * * * \n",
      "     * * * * * * \n",
      "    * * * * * * * \n",
      "   * * * * * * * * \n",
      "  * * * * * * * * * \n",
      " * * * * * * * * * * \n",
      " * * * * * * * * * * \n",
      "  * * * * * * * * * \n",
      "   * * * * * * * * \n",
      "    * * * * * * * \n",
      "     * * * * * * \n",
      "      * * * * * \n",
      "       * * * * \n",
      "        * * * \n",
      "         * * \n",
      "          * \n"
     ]
    }
   ],
   "source": [
    "for var in range(1,11):\n",
    "    print(' '*(11-var)+'* '*var)\n",
    "for tar in range(1,11):\n",
    "    print(' '*tar+'* '*(11-tar))"
   ]
  },
  {
   "cell_type": "code",
   "execution_count": 74,
   "metadata": {},
   "outputs": [
    {
     "name": "stdout",
     "output_type": "stream",
     "text": [
      " s\n",
      " s s\n",
      " s s s\n",
      " s s s s\n",
      " s s s s s\n",
      " s s s s s s\n",
      " s s s s s s s\n",
      " s s s s s s s s\n",
      " s s s s s s s s s\n",
      " s s s s s s s s s s\n"
     ]
    }
   ],
   "source": [
    "for var in range(1,11):\n",
    "    print (\"\"*(11-var)+\" s\"*var)"
   ]
  },
  {
   "cell_type": "code",
   "execution_count": 69,
   "metadata": {},
   "outputs": [
    {
     "name": "stdout",
     "output_type": "stream",
     "text": [
      " * * * * * * * * * * \n",
      "  * * * * * * * * * \n",
      "   * * * * * * * * \n",
      "    * * * * * * * \n",
      "     * * * * * * \n",
      "      * * * * * \n",
      "       * * * * \n",
      "        * * * \n",
      "         * * \n",
      "          * \n"
     ]
    }
   ],
   "source": [
    "for tar in range(1,11):\n",
    "    print(' '*tar+'* '*(11-tar))"
   ]
  },
  {
   "cell_type": "code",
   "execution_count": 104,
   "metadata": {},
   "outputs": [
    {
     "ename": "SyntaxError",
     "evalue": "invalid syntax (<ipython-input-104-aba81a5d9551>, line 3)",
     "output_type": "error",
     "traceback": [
      "\u001b[1;36m  File \u001b[1;32m\"<ipython-input-104-aba81a5d9551>\"\u001b[1;36m, line \u001b[1;32m3\u001b[0m\n\u001b[1;33m    for var in range(1,11):\u001b[0m\n\u001b[1;37m                          ^\u001b[0m\n\u001b[1;31mSyntaxError\u001b[0m\u001b[1;31m:\u001b[0m invalid syntax\n"
     ]
    }
   ],
   "source": [
    "for tar in range(1,11):\n",
    "    print(''*tar+'* '*(11-tar)\n",
    "for var in range(1,11):\n",
    "    print (\"\"*(11-var)+\" *\"*var)"
   ]
  },
  {
   "cell_type": "code",
   "execution_count": 100,
   "metadata": {},
   "outputs": [
    {
     "name": "stdout",
     "output_type": "stream",
     "text": [
      "                    * \n",
      " *\n",
      "                  * * \n",
      " * *\n",
      "                * * * \n",
      " * * *\n",
      "              * * * * \n",
      " * * * *\n",
      "            * * * * * \n",
      " * * * * *\n",
      "          * * * * * * \n",
      " * * * * * *\n",
      "        * * * * * * * \n",
      " * * * * * * *\n",
      "      * * * * * * * * \n",
      " * * * * * * * *\n",
      "    * * * * * * * * * \n",
      " * * * * * * * * *\n",
      "  * * * * * * * * * * \n",
      " * * * * * * * * * *\n"
     ]
    }
   ],
   "source": [
    "for var in range(1,11):\n",
    "    print (\"  \"*(11-var)+\"* \"*var)\n",
    "    print (\"\"*(11-var)+\" *\"*var)"
   ]
  },
  {
   "cell_type": "code",
   "execution_count": 19,
   "metadata": {},
   "outputs": [
    {
     "name": "stdout",
     "output_type": "stream",
     "text": [
      "**********  ***********\n",
      "*********    ***********\n",
      "********      ***********\n",
      "*******        ***********\n",
      "******          ***********\n",
      "*****            ***********\n",
      "****              ***********\n",
      "***                ***********\n",
      "**                  ***********\n",
      "*                    ***********\n",
      "*                    ***********\n",
      "**                  ***********\n",
      "***                ***********\n",
      "****              ***********\n",
      "*****            ***********\n",
      "******          ***********\n",
      "*******        ***********\n",
      "********      ***********\n",
      "*********    ***********\n",
      "**********  ***********\n"
     ]
    }
   ],
   "source": [
    "for tar in range(1,11):\n",
    "    print(\"*\"*(11-tar)+'  '*tar+'*'*(11-tar)+'*'*tar)\n",
    "for var in range(1,11):\n",
    "    print ('*'*var+\"  \"*(11-var)+'*'*var+\"*\"*(11-var))\n"
   ]
  },
  {
   "cell_type": "code",
   "execution_count": 26,
   "metadata": {},
   "outputs": [
    {
     "name": "stdout",
     "output_type": "stream",
     "text": [
      "**********  *********** * * * * * * * * * *   \n",
      "*********    *********** * * * * * * * * *      \n",
      "********      *********** * * * * * * * *         \n",
      "*******        *********** * * * * * * *            \n",
      "******          *********** * * * * * *               \n",
      "*****            *********** * * * * *                  \n",
      "****              *********** * * * *                     \n",
      "***                *********** * * *                        \n",
      "**                  *********** * *                           \n",
      "*                    *********** *                              \n"
     ]
    }
   ],
   "source": [
    "for tar in range(1,11):\n",
    "    print(\"*\"*(11-tar)+'  '*tar+'*'*(11-tar)+'*'*tar+\" *\"*(11-tar)+'   '*tar)"
   ]
  },
  {
   "cell_type": "code",
   "execution_count": null,
   "metadata": {},
   "outputs": [],
   "source": []
  }
 ],
 "metadata": {
  "kernelspec": {
   "display_name": "Python 3",
   "language": "python",
   "name": "python3"
  },
  "language_info": {
   "codemirror_mode": {
    "name": "ipython",
    "version": 3
   },
   "file_extension": ".py",
   "mimetype": "text/x-python",
   "name": "python",
   "nbconvert_exporter": "python",
   "pygments_lexer": "ipython3",
   "version": "3.6.5"
  }
 },
 "nbformat": 4,
 "nbformat_minor": 2
}
