{
 "cells": [
  {
   "cell_type": "code",
   "execution_count": 1,
   "metadata": {},
   "outputs": [
    {
     "name": "stdout",
     "output_type": "stream",
     "text": [
      "hello world\n"
     ]
    }
   ],
   "source": [
    "print('hello world')"
   ]
  },
  {
   "cell_type": "code",
   "execution_count": 2,
   "metadata": {},
   "outputs": [],
   "source": [
    "import random"
   ]
  },
  {
   "cell_type": "code",
   "execution_count": 6,
   "metadata": {},
   "outputs": [],
   "source": [
    "a=[random.randint(1,100)for var in range (100)]"
   ]
  },
  {
   "cell_type": "code",
   "execution_count": 7,
   "metadata": {},
   "outputs": [
    {
     "name": "stdout",
     "output_type": "stream",
     "text": [
      "[12, 8, 87, 6, 33, 89, 76, 64, 29, 94, 6, 97, 50, 1, 38, 9, 17, 100, 43, 56, 93, 37, 82, 24, 77, 74, 48, 100, 95, 55, 24, 89, 56, 9, 48, 14, 36, 79, 11, 77, 96, 32, 15, 17, 83, 72, 22, 58, 29, 8, 21, 66, 18, 38, 37, 81, 86, 52, 7, 51, 57, 86, 23, 20, 91, 80, 20, 72, 77, 15, 61, 61, 10, 52, 70, 47, 11, 50, 14, 1, 35, 44, 27, 11, 46, 60, 34, 56, 33, 42, 50, 59, 39, 22, 93, 98, 59, 47, 84, 30]\n"
     ]
    }
   ],
   "source": [
    "print(a)"
   ]
  },
  {
   "cell_type": "markdown",
   "metadata": {},
   "source": [
    "# Dictionary"
   ]
  },
  {
   "cell_type": "code",
   "execution_count": 3,
   "metadata": {},
   "outputs": [],
   "source": [
    "d={\n",
    "    'name':'python',\n",
    "    'creator':'guido van rassum',\n",
    "    'version':3.7\n",
    "}"
   ]
  },
  {
   "cell_type": "code",
   "execution_count": 5,
   "metadata": {},
   "outputs": [],
   "source": [
    "framwork = {\n",
    "    'datascience':['numpy','pandas','matplotlib'],\n",
    "    'web_dev':['django','flask'],\n",
    "    'mach_learn':['sckit_learn','scipy'],\n",
    "    'bigda':'spark'\n",
    "}"
   ]
  },
  {
   "cell_type": "code",
   "execution_count": 6,
   "metadata": {},
   "outputs": [
    {
     "data": {
      "text/plain": [
       "{'name': 'python', 'creator': 'guido van rassum', 'version': 3.7}"
      ]
     },
     "execution_count": 6,
     "metadata": {},
     "output_type": "execute_result"
    }
   ],
   "source": [
    "d"
   ]
  },
  {
   "cell_type": "code",
   "execution_count": 7,
   "metadata": {},
   "outputs": [
    {
     "data": {
      "text/plain": [
       "{'datascience': ['numpy', 'pandas', 'matplotlib'],\n",
       " 'web_dev': ['django', 'flask'],\n",
       " 'mach_learn': ['sckit_learn', 'scipy'],\n",
       " 'bigda': 'spark'}"
      ]
     },
     "execution_count": 7,
     "metadata": {},
     "output_type": "execute_result"
    }
   ],
   "source": [
    "framwork"
   ]
  },
  {
   "cell_type": "code",
   "execution_count": null,
   "metadata": {},
   "outputs": [],
   "source": []
  }
 ],
 "metadata": {
  "kernelspec": {
   "display_name": "Python 3",
   "language": "python",
   "name": "python3"
  },
  "language_info": {
   "codemirror_mode": {
    "name": "ipython",
    "version": 3
   },
   "file_extension": ".py",
   "mimetype": "text/x-python",
   "name": "python",
   "nbconvert_exporter": "python",
   "pygments_lexer": "ipython3",
   "version": "3.6.5"
  }
 },
 "nbformat": 4,
 "nbformat_minor": 2
}
